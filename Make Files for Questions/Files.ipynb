{
 "cells": [
  {
   "cell_type": "code",
   "execution_count": 1,
   "metadata": {},
   "outputs": [],
   "source": [
    "import toml"
   ]
  },
  {
   "cell_type": "code",
   "execution_count": 2,
   "metadata": {},
   "outputs": [],
   "source": [
    "with open('questions.toml', mode='r') as q:\n",
    "    questions = toml.load(q)"
   ]
  },
  {
   "cell_type": "code",
   "execution_count": 17,
   "metadata": {},
   "outputs": [],
   "source": [
    "count = 0\n",
    "for i in [\"True\", \"False\"]:\n",
    "    for j in [\"True\", \"False\"]:\n",
    "        questions[\"questions\"][\"q\" + str(count)] = i +\" + \"+ j\n",
    "        questions[\"answers\"][\"q\" + str(count)] = str(bool(i+j))\n",
    "        questions[\"options\"][\"q\" + str(count)] = [\"True\", \"False\"]\n",
    "        count +=1\n",
    "\n",
    "with open(\"questions.toml\", 'w') as q:\n",
    "    toml.dump(questions, q)"
   ]
  },
  {
   "cell_type": "code",
   "execution_count": null,
   "metadata": {},
   "outputs": [],
   "source": []
  }
 ],
 "metadata": {
  "kernelspec": {
   "display_name": "base",
   "language": "python",
   "name": "python3"
  },
  "language_info": {
   "codemirror_mode": {
    "name": "ipython",
    "version": 3
   },
   "file_extension": ".py",
   "mimetype": "text/x-python",
   "name": "python",
   "nbconvert_exporter": "python",
   "pygments_lexer": "ipython3",
   "version": "3.9.13"
  }
 },
 "nbformat": 4,
 "nbformat_minor": 2
}
