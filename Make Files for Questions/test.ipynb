{
 "cells": [
  {
   "cell_type": "code",
   "execution_count": 4,
   "metadata": {},
   "outputs": [
    {
     "name": "stdout",
     "output_type": "stream",
     "text": [
      "localhost\n",
      "8080\n",
      "myuser\n"
     ]
    }
   ],
   "source": [
    "import toml\n",
    "\n",
    "with open('config.toml', 'r') as f:\n",
    "\tconfig = toml.load(f)\n",
    "\n",
    "# Access values from the config\n",
    "print(config['server']['host'])\n",
    "print(config['server']['port'])\n",
    "print(config['database']['username'])\n",
    "\n",
    "config['database']['level2'] = 'new added information'\n",
    "with open('config.toml', 'w') as f:\n",
    "    toml.dump(config, f)\n"
   ]
  },
  {
   "cell_type": "code",
   "execution_count": 13,
   "metadata": {},
   "outputs": [],
   "source": [
    "with open('questions.toml', mode='r') as q:\n",
    "    questions = toml.load(q)"
   ]
  },
  {
   "cell_type": "code",
   "execution_count": 17,
   "metadata": {},
   "outputs": [],
   "source": [
    "# count = 0\n",
    "# for i in [\"True\", \"False\"]:\n",
    "#     for j in [\"True\", \"False\"]:\n",
    "#         questions['q' + str(count)][\"question\"] = i + j\n",
    "#         questions['q' + str(count)][\"answer\"] = str(bool(i)+bool(j))\n",
    "#         questions[\"q\" + str(count)][\"option 1\"] = \"True\"\n",
    "#         questions[\"q\" + str(count)][\"option 2\"] = \"False\"\n",
    "#         count += 1\n",
    "\n",
    "# with open('questions.toml', mode='w') as q:\n",
    "#     toml.dump(questions, q)\n",
    "count = 0\n",
    "for i in [\"True\", \"False\"]:\n",
    "    for j in [\"True\", \"False\"]:\n",
    "        questions[\"questions\"][\"q\" + str(count)] = i +\" + \"+ j\n",
    "        questions[\"answers\"][\"q\" + str(count)] = str(bool(i+j))\n",
    "        questions[\"options\"][\"q\" + str(count)] = [\"True\", \"False\"]\n",
    "        count +=1\n",
    "\n",
    "with open(\"questions.toml\", 'w') as q:\n",
    "    toml.dump(questions, q)"
   ]
  },
  {
   "cell_type": "code",
   "execution_count": null,
   "metadata": {},
   "outputs": [],
   "source": []
  }
 ],
 "metadata": {
  "kernelspec": {
   "display_name": "base",
   "language": "python",
   "name": "python3"
  },
  "language_info": {
   "codemirror_mode": {
    "name": "ipython",
    "version": 3
   },
   "file_extension": ".py",
   "mimetype": "text/x-python",
   "name": "python",
   "nbconvert_exporter": "python",
   "pygments_lexer": "ipython3",
   "version": "3.9.19"
  }
 },
 "nbformat": 4,
 "nbformat_minor": 2
}
