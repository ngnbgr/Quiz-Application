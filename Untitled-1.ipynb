{
 "cells": [
  {
   "cell_type": "code",
   "execution_count": 1,
   "metadata": {},
   "outputs": [],
   "source": [
    "import numpy as np\n",
    "import matplotlib as mpl\n",
    "import pandas as pd"
   ]
  },
  {
   "cell_type": "code",
   "execution_count": 4,
   "metadata": {},
   "outputs": [
    {
     "name": "stdout",
     "output_type": "stream",
     "text": [
      "Your name is Negin\n"
     ]
    }
   ],
   "source": [
    "# get user name\n",
    "def Assign_Name():\n",
    "    name = input(\"What is your name?\")\n",
    "    print(\"Your name is \"+ name)\n",
    "\n",
    "Assign_Name()"
   ]
  },
  {
   "cell_type": "code",
   "execution_count": null,
   "metadata": {},
   "outputs": [],
   "source": [
    "#Save Questions in DataBase\n",
    "Length_All_Questions = 0\n",
    "\n",
    "class def_Question:\n",
    "    def __init__(self, code, Question, Answer):\n",
    "        self.code = code\n",
    "        self.Question = Question\n",
    "        self.Answer = Answer\n",
    "        \n",
    "\n",
    "def Add_Question():\n",
    "    question = input(\"Type the question:\")\n",
    "    answer = input(\"Type the answer:\")\n",
    "\n",
    "    Length_All_Questions += 1\n",
    "    new_question = def_Question(Length_All_Questions, Question= question, Answer= answer)\n"
   ]
  },
  {
   "cell_type": "code",
   "execution_count": null,
   "metadata": {},
   "outputs": [],
   "source": [
    "# Add_Question()"
   ]
  },
  {
   "cell_type": "code",
   "execution_count": null,
   "metadata": {},
   "outputs": [],
   "source": [
    "# Ask Questions from User and Check the Answers\n",
    "def Asking_Questions(Number_of_Questions):\n",
    "    if Number_of_Questions<= Length_All_Questions:\n",
    "        rng = np.random.default_rng()\n",
    "        random_Questions = rng.choice(Length_All_Questions)"
   ]
  },
  {
   "cell_type": "code",
   "execution_count": 14,
   "metadata": {},
   "outputs": [],
   "source": [
    "# Assign Questions Source\n",
    "class Init_Question:\n",
    "    def __init__(self):\n",
    "        self.question = \"q\"\n",
    "        self.asnwer = \"a\"\n",
    "\n",
    "Question_Source = []\n",
    "for i in range(4):\n",
    "    Question_Source.append(Init_Question())\n",
    "\n",
    "Question_Source[0].question, Question_Source[0].answer = \"True + True\", \"True\"\n",
    "Question_Source[1].question, Question_Source[1].answer = \"False + True\", \"False\"\n",
    "Question_Source[2].question, Question_Source[2].answer = \"True + False\", \"False\"\n",
    "Question_Source[3].question, Question_Source[3].answer = \"False + False\", \"True\""
   ]
  },
  {
   "cell_type": "code",
   "execution_count": 20,
   "metadata": {},
   "outputs": [
    {
     "name": "stdout",
     "output_type": "stream",
     "text": [
      "0\n",
      "True + True True\n",
      "1\n"
     ]
    },
    {
     "ename": "AttributeError",
     "evalue": "'Init_Question' object has no attribute 'answer'",
     "output_type": "error",
     "traceback": [
      "\u001b[1;31m---------------------------------------------------------------------------\u001b[0m",
      "\u001b[1;31mAttributeError\u001b[0m                            Traceback (most recent call last)",
      "\u001b[1;32m~\\AppData\\Local\\Temp/ipykernel_9408/4246692946.py\u001b[0m in \u001b[0;36m<module>\u001b[1;34m\u001b[0m\n\u001b[0;32m     14\u001b[0m \u001b[1;32mfor\u001b[0m \u001b[0mi\u001b[0m \u001b[1;32min\u001b[0m \u001b[0mrange\u001b[0m\u001b[1;33m(\u001b[0m\u001b[1;36m4\u001b[0m\u001b[1;33m)\u001b[0m\u001b[1;33m:\u001b[0m\u001b[1;33m\u001b[0m\u001b[1;33m\u001b[0m\u001b[0m\n\u001b[0;32m     15\u001b[0m     \u001b[0mprint\u001b[0m\u001b[1;33m(\u001b[0m\u001b[0mi\u001b[0m\u001b[1;33m)\u001b[0m\u001b[1;33m\u001b[0m\u001b[1;33m\u001b[0m\u001b[0m\n\u001b[1;32m---> 16\u001b[1;33m     \u001b[0mprint\u001b[0m\u001b[1;33m(\u001b[0m\u001b[0mQuestion_Source\u001b[0m\u001b[1;33m[\u001b[0m\u001b[0mi\u001b[0m\u001b[1;33m]\u001b[0m\u001b[1;33m.\u001b[0m\u001b[0mquestion\u001b[0m\u001b[1;33m,\u001b[0m \u001b[0mQuestion_Source\u001b[0m\u001b[1;33m[\u001b[0m\u001b[0mi\u001b[0m\u001b[1;33m]\u001b[0m\u001b[1;33m.\u001b[0m\u001b[0manswer\u001b[0m\u001b[1;33m)\u001b[0m\u001b[1;33m\u001b[0m\u001b[1;33m\u001b[0m\u001b[0m\n\u001b[0m",
      "\u001b[1;31mAttributeError\u001b[0m: 'Init_Question' object has no attribute 'answer'"
     ]
    }
   ],
   "source": [
    "# def Ask_Questions(QSource):\n",
    "#     for i in range(4):\n",
    "#         question = QSource[i]\n",
    "#         answer = input(question.question)\n",
    "#         # print(i)\n",
    "#         # print(i.question)\n",
    "#         if answer==question.answer:\n",
    "#             print(\"Correct!\")\n",
    "#         else: \n",
    "#             print(\"Wrong! The correct answer is \" + question.answer )\n",
    "\n",
    "# Ask_Questions(Question_Source)\n",
    "\n",
    "for i in range(4):\n",
    "    print(i)\n",
    "    print(Question_Source[i].question, Question_Source[i].answer)"
   ]
  }
 ],
 "metadata": {
  "kernelspec": {
   "display_name": "base",
   "language": "python",
   "name": "python3"
  },
  "language_info": {
   "codemirror_mode": {
    "name": "ipython",
    "version": 3
   },
   "file_extension": ".py",
   "mimetype": "text/x-python",
   "name": "python",
   "nbconvert_exporter": "python",
   "pygments_lexer": "ipython3",
   "version": "3.9.7"
  }
 },
 "nbformat": 4,
 "nbformat_minor": 2
}
